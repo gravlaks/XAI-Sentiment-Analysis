{
 "metadata": {
  "kernelspec": {
   "name": "venv",
   "display_name": "venv",
   "language": "python"
  },
  "language_info": {
   "codemirror_mode": {
    "name": "ipython",
    "version": 3
   },
   "file_extension": ".py",
   "mimetype": "text/x-python",
   "name": "python",
   "nbconvert_exporter": "python",
   "pygments_lexer": "ipython3",
   "version": "3.8.3-final"
  }
 },
 "nbformat": 4,
 "nbformat_minor": 2,
 "cells": [
  {
   "cell_type": "markdown",
   "metadata": {},
   "source": [
    "### GLOBAL CONFIG"
   ]
  },
  {
   "cell_type": "code",
   "execution_count": null,
   "metadata": {},
   "outputs": [],
   "source": [
    "%load_ext autoreload\n",
    "import numpy as np\n",
    "import pandas as pd\n",
    "import tensorflow as tf\n",
    "import pickle\n",
    "\n",
    "PREPROCESS = True # Do a fresh preprocess\n",
    "MAKE_NEW_EMBEDDING = True # If False, the stored one will be loaded\n",
    "# EMB_MAX_WORDS = None\n",
    "RANDOM_SEED = 456\n",
    "SAVE_TRAINED_MODEL = True\n",
    "\n",
    "PREPROCESS_INPUT = './data/training.1600000.processed.noemoticon.csv'\n",
    "PREPROCESS_OUTPUT = './data/preprocessed.csv'\n",
    "GLOVE_FILE = './data/glove.6B.50d.txt'\n",
    "EMB_PKL = './models/emb_layer.pkl'\n",
    "MODEL_PKL = './models/model.pkl'\n",
    "MODEL_TYPE = 'sequential'\n",
    "model_path = 'models/trained_'+ MODEL_TYPE\n",
    "new_model = False"
   ]
  },
  {
   "source": [
    "### Preprocess data and store it"
   ],
   "cell_type": "markdown",
   "metadata": {}
  },
  {
   "cell_type": "code",
   "execution_count": null,
   "metadata": {},
   "outputs": [],
   "source": [
    "from pre import preprocess\n",
    "\n",
    "if PREPROCESS:\n",
    "    preprocess(i=PREPROCESS_INPUT, o=PREPROCESS_OUTPUT, slice=1000)"
   ]
  },
  {
   "cell_type": "markdown",
   "metadata": {},
   "source": [
    "### Load preprocessed data"
   ]
  },
  {
   "cell_type": "code",
   "execution_count": null,
   "metadata": {},
   "outputs": [],
   "source": [
    "from parse import load_data\n",
    "from sklearn.model_selection import train_test_split\n",
    "\n",
    "data = load_data(PREPROCESS_OUTPUT)\n",
    "X = data['tweet']\n",
    "y = data['target']\n",
    "X_train, X_test, y_train, y_test = train_test_split(X, y, test_size=0.2, random_state=RANDOM_SEED)\n",
    "X_train, X_val, y_train, y_val = train_test_split(X_train, y_train, test_size=0.2, random_state=RANDOM_SEED)\n",
    "\n",
    "y_train = tf.keras.utils.to_categorical(y_train, 2)\n",
    "y_test = tf.keras.utils.to_categorical(y_test, 2)\n",
    "y_val = tf.keras.utils.to_categorical(y_val, 2)\n"
   ]
  },
  {
   "source": [
    "### Create Empty model\n",
    "%autoreload 2\n",
    "\n",
    "from TextClassifierModel import new_classifier, load_classifier, save_classifier\n",
    "\n",
    "\n",
    "\n",
    "\n",
    "\n",
    "\n",
    "if new_model:\n",
    "    model_type = \"recurrent\"\n",
    "    text_classifier = new_classifier(glove_file = GLOVE_FILE, data=data, model_type=model_type)\n",
    "    save_classifier(text_classifier, 'models/untrained')\n",
    "else:\n",
    "    text_classifier = load_classifier(model_path=model_path)\n",
    "print(text_classifier.model.summary())\n"
   ],
   "cell_type": "code",
   "metadata": {},
   "execution_count": null,
   "outputs": []
  },
  {
   "cell_type": "markdown",
   "metadata": {},
   "source": [
    "### Train"
   ]
  },
  {
   "cell_type": "code",
   "execution_count": null,
   "metadata": {},
   "outputs": [],
   "source": [
    "%autoreload 2\n",
    "from evaluation import plot_history\n",
    "\n",
    "history = text_classifier.fit(X_train, y_train, validation_data=(X_val, y_val), batch_size=60, epochs=30, verbose=1)\n",
    "plot_history(history)\n"
   ]
  },
  {
   "source": [
    "### Save trained model"
   ],
   "cell_type": "markdown",
   "metadata": {}
  },
  {
   "source": [
    "from TextClassifierModel import save_classifier\n",
    "save_classifier(text_classifier, model_path)"
   ],
   "cell_type": "code",
   "metadata": {},
   "execution_count": null,
   "outputs": []
  },
  {
   "cell_type": "markdown",
   "metadata": {},
   "source": [
    "### Evaluate production (forbidden during tuning)"
   ]
  },
  {
   "cell_type": "code",
   "execution_count": null,
   "metadata": {},
   "outputs": [],
   "source": [
    "from evaluation import evaluate_model\n",
    "\n",
    "evaluate_model(text_classifier, X_test, y_test, verbose=False)"
   ]
  },
  {
   "cell_type": "markdown",
   "metadata": {},
   "source": [
    "### Explain prediction"
   ]
  },
  {
   "cell_type": "code",
   "execution_count": null,
   "metadata": {},
   "outputs": [],
   "source": [
    "import eli5\n",
    "from eli5.lime import TextExplainer\n",
    "\n",
    "te = TextExplainer(random_state=42)\n",
    "te.fit(\"I love candy. I like to be positive, be happy! What a lovely day\", text_classifier.predict_proba)\n",
    "te.show_prediction()"
   ]
  },
  {
   "cell_type": "code",
   "execution_count": null,
   "metadata": {},
   "outputs": [],
   "source": [
    "\n",
    "from visualize_embeddings import  display_pca_scatter_plot\n",
    "display_pca_scatter_plot(GLOVE_FILE)"
   ]
  },
  {
   "cell_type": "code",
   "execution_count": null,
   "metadata": {},
   "outputs": [],
   "source": []
  }
 ]
}