{
 "metadata": {
  "kernelspec": {
   "name": "python383jvsc74a57bd05f3144b1e8b8761f6788e68e06b57d80ccf49a386fe0b491d6504c3d56643be4",
   "display_name": "Python 3.8.3 64-bit ('venv': venv)",
   "language": "python"
  },
  "language_info": {
   "codemirror_mode": {
    "name": "ipython",
    "version": 3
   },
   "file_extension": ".py",
   "mimetype": "text/x-python",
   "name": "python",
   "nbconvert_exporter": "python",
   "pygments_lexer": "ipython3",
   "version": "3.8.3-final"
  },
  "metadata": {
   "interpreter": {
    "hash": "3f557d7ed9ba8968bb8a87bae0977ff716fe616dd1096d8d54e2d9f68d975f69"
   }
  }
 },
 "nbformat": 4,
 "nbformat_minor": 2,
 "cells": [
  {
   "cell_type": "markdown",
   "metadata": {},
   "source": [
    "### GLOBAL CONFIG"
   ]
  },
  {
   "cell_type": "code",
   "execution_count": null,
   "metadata": {},
   "outputs": [],
   "source": [
    "%load_ext autoreload\n",
    "import numpy as np\n",
    "import pandas as pd\n",
    "import tensorflow as tf\n",
    "import pickle\n",
    "\n",
    "PREPROCESS = True # Do a fresh preprocess\n",
    "NEW_MODEL = False\n",
    "MAKE_NEW_EMBEDDING = True # If False, the stored one will be loaded\n",
    "# EMB_MAX_WORDS = None\n",
    "RANDOM_SEED = 456\n",
    "SAVE_TRAINED_MODEL = True\n",
    "\n",
    "PREPROCESS_INPUT = './data/training.1600000.processed.noemoticon.csv'\n",
    "PREPROCESS_OUTPUT = './data/preprocessed.csv'\n",
    "GLOVE_FILE = './data/glove.6B.50d.txt'\n",
    "EMB_PKL = './models/emb_layer.pkl'\n",
    "MODEL_PKL = './models/model.pkl'\n",
    "MODEL_TYPE = 'sequential'\n",
    "MODEL_PATH = 'models/trained_'+ MODEL_TYPE\n",
    "TWEETS_TO_EXPLAIN = [111, 156, 933487, 933565]\n"
   ]
  },
  {
   "source": [
    "### Preprocess data and store it"
   ],
   "cell_type": "markdown",
   "metadata": {}
  },
  {
   "cell_type": "code",
   "execution_count": null,
   "metadata": {},
   "outputs": [],
   "source": [
    "from pre import preprocess\n",
    "\n",
    "if PREPROCESS:\n",
    "    preprocess(i=PREPROCESS_INPUT, o=PREPROCESS_OUTPUT, slice=None)"
   ]
  },
  {
   "cell_type": "markdown",
   "metadata": {},
   "source": [
    "### Load preprocessed data"
   ]
  },
  {
   "cell_type": "code",
   "execution_count": null,
   "metadata": {},
   "outputs": [],
   "source": [
    "from parse import load_data\n",
    "from sklearn.model_selection import train_test_split\n",
    "\n",
    "data = load_data(PREPROCESS_OUTPUT)\n",
    "X = data['tweet']\n",
    "y = data['target']\n",
    "X_train, X_test, y_train, y_test = train_test_split(X, y, test_size=0.2, random_state=RANDOM_SEED)\n",
    "X_train, X_val, y_train, y_val = train_test_split(X_train, y_train, test_size=0.2, random_state=RANDOM_SEED)\n",
    "\n",
    "y_train = tf.keras.utils.to_categorical(y_train, 2)\n",
    "y_test = tf.keras.utils.to_categorical(y_test, 2)\n",
    "y_val = tf.keras.utils.to_categorical(y_val, 2)\n"
   ]
  },
  {
   "source": [
    "### Create/load model"
   ],
   "cell_type": "markdown",
   "metadata": {}
  },
  {
   "source": [
    "%autoreload 2\n",
    "from TextClassifierModel import new_classifier, load_classifier, save_classifier\n",
    "\n",
    "if NEW_MODEL:\n",
    "    text_classifier = new_classifier(glove_file = GLOVE_FILE, data=data, model_type=MODEL_TYPE)\n",
    "    save_classifier(text_classifier, MODEL_PATH)\n",
    "else:\n",
    "    text_classifier = load_classifier(model_path=MODEL_PATH)\n",
    "print(text_classifier.model.summary())\n"
   ],
   "cell_type": "code",
   "metadata": {},
   "execution_count": null,
   "outputs": []
  },
  {
   "cell_type": "markdown",
   "metadata": {},
   "source": [
    "### Train"
   ]
  },
  {
   "cell_type": "code",
   "execution_count": null,
   "metadata": {},
   "outputs": [],
   "source": [
    "%autoreload 2\n",
    "from evaluation import plot_history\n",
    "\n",
    "history = text_classifier.fit(X_train, y_train, validation_data=(X_val, y_val), batch_size=60, epochs=30, verbose=1)\n",
    "plot_history(history)\n"
   ]
  },
  {
   "source": [
    "### Save trained model"
   ],
   "cell_type": "markdown",
   "metadata": {}
  },
  {
   "source": [
    "from TextClassifierModel import save_classifier\n",
    "save_classifier(text_classifier, MODEL_PATH)"
   ],
   "cell_type": "code",
   "metadata": {},
   "execution_count": null,
   "outputs": []
  },
  {
   "cell_type": "markdown",
   "metadata": {},
   "source": [
    "### Evaluate production (forbidden during tuning)"
   ]
  },
  {
   "cell_type": "code",
   "execution_count": null,
   "metadata": {},
   "outputs": [],
   "source": [
    "from evaluation import evaluate_model\n",
    "\n",
    "evaluate_model(text_classifier, X_test, y_test, verbose=False)"
   ]
  },
  {
   "cell_type": "markdown",
   "metadata": {},
   "source": [
    "### Explain prediction"
   ]
  },
  {
   "cell_type": "code",
   "execution_count": null,
   "metadata": {},
   "outputs": [],
   "source": [
    "# Load unprocessed data for readability\n",
    "%autoreload 2\n",
    "from pre import load_unprocessed, split_and_preprocess\n",
    "df_orig = load_unprocessed(PREPROCESS_INPUT)\n",
    "\n",
    "# Fetch subset of training tweets\n",
    "explain_tweets_orig, explain_tweets_prep = split_and_preprocess(df_orig, TWEETS_TO_EXPLAIN)\n"
   ]
  },
  {
   "cell_type": "code",
   "execution_count": null,
   "metadata": {
    "tags": []
   },
   "outputs": [],
   "source": [
    "from explainability import explain_and_save\n",
    "explain_and_save(explain_tweets_orig, explain_tweets_prep, TWEETS_TO_EXPLAIN, text_classifier,  MODEL_TYPE)\n"
   ]
  },
  {
   "cell_type": "code",
   "execution_count": null,
   "metadata": {},
   "outputs": [],
   "source": [
    "\n",
    "from explainability import save_predictions\n",
    "save_predictions(explain_tweets_prep, TWEETS_TO_EXPLAIN,  text_classifier)\n"
   ]
  },
  {
   "cell_type": "code",
   "execution_count": null,
   "metadata": {},
   "outputs": [],
   "source": [
    "from explainability import display_html_browser\n",
    "import codecs\n",
    "idx = TWEETS_TO_EXPLAIN[0]\n",
    "html=codecs.open(f\"data/predictions/html_{idx}.html\", 'r').read()\n",
    "display_html_browser(html, f\"explain_{idx}\")"
   ]
  },
  {
   "cell_type": "code",
   "execution_count": null,
   "metadata": {},
   "outputs": [],
   "source": [
    "%autoreload 2\n",
    "\n",
    "from visualize_embeddings import  display_pca_scatter_plot\n",
    "display_pca_scatter_plot(GLOVE_FILE)\n"
   ]
  },
  {
   "cell_type": "code",
   "execution_count": null,
   "metadata": {},
   "outputs": [],
   "source": []
  },
  {
   "cell_type": "code",
   "execution_count": null,
   "metadata": {},
   "outputs": [],
   "source": []
  }
 ]
}