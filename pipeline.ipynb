{
 "cells": [
  {
   "cell_type": "code",
   "execution_count": 4,
   "metadata": {},
   "outputs": [],
   "source": [
    "import numpy as np\n",
    "import pandas as pd\n",
    "import tensorflow as tf"
   ]
  },
  {
   "cell_type": "markdown",
   "metadata": {},
   "source": [
    "### Preprocess data\n",
    "(only needs to be done once)"
   ]
  },
  {
   "cell_type": "code",
   "execution_count": 5,
   "metadata": {},
   "outputs": [
    {
     "name": "stdout",
     "output_type": "stream",
     "text": [
      "Loading ./data/training.1600000.processed.noemoticon.csv\n"
     ]
    },
    {
     "name": "stderr",
     "output_type": "stream",
     "text": [
      "\r",
      "  0%|          | 0/1000 [00:00<?, ?it/s]"
     ]
    },
    {
     "name": "stdout",
     "output_type": "stream",
     "text": [
      "Stripping down\n",
      "Preprocessing\n"
     ]
    },
    {
     "name": "stderr",
     "output_type": "stream",
     "text": [
      "100%|██████████| 1000/1000 [00:06<00:00, 151.32it/s]\n"
     ]
    },
    {
     "name": "stdout",
     "output_type": "stream",
     "text": [
      "Done. Writing to ./data/preprocessed.csv\n",
      "Success!\n"
     ]
    }
   ],
   "source": [
    "from pre import preprocess\n",
    "# stores preprocessed data file\n",
    "preprocessed_filename = './data/preprocessed.csv'\n",
    "preprocess(i='./data/training.1600000.processed.noemoticon.csv', o=preprocessed_filename, slice=1000)"
   ]
  },
  {
   "cell_type": "markdown",
   "metadata": {},
   "source": [
    "### Load preprocessed data"
   ]
  },
  {
   "cell_type": "code",
   "execution_count": 6,
   "metadata": {},
   "outputs": [],
   "source": [
    "from parse import load_data\n",
    "\n",
    "data = load_data(preprocessed_filename)\n",
    "# TODO: train/dev/test split"
   ]
  },
  {
   "cell_type": "markdown",
   "metadata": {},
   "source": [
    "### Embedding"
   ]
  },
  {
   "cell_type": "code",
   "execution_count": 7,
   "metadata": {},
   "outputs": [
    {
     "name": "stdout",
     "output_type": "stream",
     "text": [
      "got tweets\n",
      "Glove data loaded\n",
      "Words not found 521\n"
     ]
    }
   ],
   "source": [
    "from keras.preprocessing.text import Tokenizer\n",
    "from emb import get_keras_embeddings_layer\n",
    "\n",
    "MAX_WORDS = 5000\n",
    "glove_filename = './data/glove.6B.50d.txt'\n",
    "tokenizer = Tokenizer(lower=True, split=' ', oov_token=\"UNK\")\n",
    "emb_layer = get_keras_embeddings_layer(glove_filename, preprocessed_filename, tokenizer)"
   ]
  },
  {
   "cell_type": "markdown",
   "metadata": {},
   "source": [
    "### Model"
   ]
  },
  {
   "cell_type": "code",
   "execution_count": 28,
   "metadata": {},
   "outputs": [
    {
     "name": "stdout",
     "output_type": "stream",
     "text": [
      "The autoreload extension is already loaded. To reload it, use:\n",
      "  %reload_ext autoreload\n",
      "building model\n",
      "init\n",
      "Model: \"sequential_3\"\n",
      "_________________________________________________________________\n",
      "Layer (type)                 Output Shape              Param #   \n",
      "=================================================================\n",
      "embedding (Embedding)        multiple                  141600    \n",
      "_________________________________________________________________\n",
      "flatten_6 (Flatten)          (None, 5000)              0         \n",
      "_________________________________________________________________\n",
      "dropout_3 (Dropout)          (None, 5000)              0         \n",
      "_________________________________________________________________\n",
      "dense_12 (Dense)             (None, 64)                320064    \n",
      "_________________________________________________________________\n",
      "dense_13 (Dense)             (None, 100)               6500      \n",
      "_________________________________________________________________\n",
      "dense_14 (Dense)             (None, 2)                 202       \n",
      "=================================================================\n",
      "Total params: 468,366\n",
      "Trainable params: 326,766\n",
      "Non-trainable params: 141,600\n",
      "_________________________________________________________________\n",
      "None\n"
     ]
    }
   ],
   "source": [
    "%load_ext autoreload\n",
    "%autoreload 2\n",
    "from TextClassifierModel import build_model_keras, KerasTextClassifier\n",
    "import pickle\n",
    "\n",
    "\n",
    "# TODO: check correct arg-assignment for tokenizer\n",
    "model = build_model_keras(tokenizer, emb_layer)"
   ]
  },
  {
   "cell_type": "markdown",
   "metadata": {},
   "source": [
    "### Save untrained model | load it"
   ]
  },
  {
   "cell_type": "markdown",
   "metadata": {},
   "source": [
    "### Train"
   ]
  },
  {
   "cell_type": "code",
   "execution_count": 29,
   "metadata": {},
   "outputs": [
    {
     "name": "stdout",
     "output_type": "stream",
     "text": [
      "507 493\n"
     ]
    }
   ],
   "source": [
    "%autoreload 2\n",
    "def mapping(n):\n",
    "            if n == 0:\n",
    "                return 0\n",
    "            if n == 4:\n",
    "                return 1\n",
    "\n",
    "\n",
    "data_0 = data[data['target']==0]\n",
    "data_4 = data[data['target']==4]\n",
    "\n",
    "count_0, count_4 = data.target.value_counts()\n",
    "print(count_0, count_4)\n",
    "\n",
    "\n",
    "\n",
    "split = len(data['tweet'])//2\n",
    "\n",
    "training_data = np.array(data['tweet'][:split])\n",
    "training_target = np.array(data['target'][:split])\n",
    "test_data = np.array(data['tweet'][split:])\n",
    "test_target = np.array(data['target'][split:])\n",
    "\n",
    "for i in range(len(training_target)):\n",
    "    training_target[i] = mapping(training_target[i])\n",
    "for i in range(len(test_target)):\n",
    "    test_target[i] = mapping(test_target[i])\n",
    "training_target = tf.keras.utils.to_categorical(training_target, 2)\n",
    "test_target = tf.keras.utils.to_categorical(test_target, 2)\n",
    "\n",
    "#print(training_target, test_target)\n",
    "#doc = np.array(data['tweet'][:1])\n",
    "\n"
   ]
  },
  {
   "cell_type": "code",
   "execution_count": 33,
   "metadata": {},
   "outputs": [
    {
     "name": "stdout",
     "output_type": "stream",
     "text": [
      "The autoreload extension is already loaded. To reload it, use:\n",
      "  %reload_ext autoreload\n",
      "Epoch 1/40\n",
      "15/15 [==============================] - 0s 15ms/step - loss: 0.6378 - accuracy: 0.7289 - val_loss: 0.7582 - val_accuracy: 0.5600\n",
      "Epoch 2/40\n",
      "15/15 [==============================] - 0s 12ms/step - loss: 0.6083 - accuracy: 0.7400 - val_loss: 0.7656 - val_accuracy: 0.5600\n",
      "Epoch 3/40\n",
      "15/15 [==============================] - 0s 13ms/step - loss: 0.5685 - accuracy: 0.7822 - val_loss: 0.8010 - val_accuracy: 0.5200\n",
      "Epoch 4/40\n",
      "15/15 [==============================] - 0s 14ms/step - loss: 0.5416 - accuracy: 0.7933 - val_loss: 0.8135 - val_accuracy: 0.5600\n",
      "Epoch 5/40\n",
      "15/15 [==============================] - 0s 18ms/step - loss: 0.5557 - accuracy: 0.7756 - val_loss: 0.7863 - val_accuracy: 0.6000\n",
      "Epoch 6/40\n",
      "15/15 [==============================] - 0s 14ms/step - loss: 0.5367 - accuracy: 0.7911 - val_loss: 0.8125 - val_accuracy: 0.5800\n",
      "Epoch 7/40\n",
      "15/15 [==============================] - 0s 12ms/step - loss: 0.5541 - accuracy: 0.7800 - val_loss: 0.8133 - val_accuracy: 0.6600\n",
      "Epoch 8/40\n",
      "15/15 [==============================] - 0s 12ms/step - loss: 0.5337 - accuracy: 0.7800 - val_loss: 0.7916 - val_accuracy: 0.6000\n",
      "Epoch 9/40\n",
      "15/15 [==============================] - 0s 16ms/step - loss: 0.5270 - accuracy: 0.8000 - val_loss: 0.8014 - val_accuracy: 0.5800\n",
      "Epoch 10/40\n",
      "15/15 [==============================] - 0s 15ms/step - loss: 0.5516 - accuracy: 0.7889 - val_loss: 0.8046 - val_accuracy: 0.5600\n",
      "Epoch 11/40\n",
      "15/15 [==============================] - 0s 11ms/step - loss: 0.5084 - accuracy: 0.8244 - val_loss: 0.7876 - val_accuracy: 0.6000\n",
      "Epoch 12/40\n",
      "15/15 [==============================] - 0s 12ms/step - loss: 0.4956 - accuracy: 0.8089 - val_loss: 0.7905 - val_accuracy: 0.5800\n",
      "Epoch 13/40\n",
      "15/15 [==============================] - 0s 12ms/step - loss: 0.4679 - accuracy: 0.8311 - val_loss: 0.7904 - val_accuracy: 0.6200\n",
      "Epoch 14/40\n",
      "15/15 [==============================] - 0s 13ms/step - loss: 0.4970 - accuracy: 0.8222 - val_loss: 0.8248 - val_accuracy: 0.6400\n",
      "Epoch 15/40\n",
      "15/15 [==============================] - 0s 14ms/step - loss: 0.4510 - accuracy: 0.8622 - val_loss: 0.8593 - val_accuracy: 0.5600\n",
      "Epoch 16/40\n",
      "15/15 [==============================] - 0s 12ms/step - loss: 0.4491 - accuracy: 0.8444 - val_loss: 0.8266 - val_accuracy: 0.6000\n",
      "Epoch 17/40\n",
      "15/15 [==============================] - 0s 12ms/step - loss: 0.4281 - accuracy: 0.8689 - val_loss: 0.8415 - val_accuracy: 0.6400\n",
      "Epoch 18/40\n",
      "15/15 [==============================] - 0s 14ms/step - loss: 0.4504 - accuracy: 0.8444 - val_loss: 0.7947 - val_accuracy: 0.6000\n",
      "Epoch 19/40\n",
      "15/15 [==============================] - 0s 16ms/step - loss: 0.4281 - accuracy: 0.8756 - val_loss: 0.8356 - val_accuracy: 0.5600\n",
      "Epoch 20/40\n",
      "15/15 [==============================] - 0s 13ms/step - loss: 0.4500 - accuracy: 0.8400 - val_loss: 0.9013 - val_accuracy: 0.6200\n",
      "Epoch 21/40\n",
      "15/15 [==============================] - 0s 13ms/step - loss: 0.4030 - accuracy: 0.8844 - val_loss: 0.8991 - val_accuracy: 0.6000\n",
      "Epoch 22/40\n",
      "15/15 [==============================] - 0s 11ms/step - loss: 0.3810 - accuracy: 0.9000 - val_loss: 0.9125 - val_accuracy: 0.5200\n",
      "Epoch 23/40\n",
      "15/15 [==============================] - 0s 13ms/step - loss: 0.3725 - accuracy: 0.9089 - val_loss: 0.9162 - val_accuracy: 0.5000\n",
      "Epoch 24/40\n",
      "15/15 [==============================] - 0s 12ms/step - loss: 0.3876 - accuracy: 0.8933 - val_loss: 0.9610 - val_accuracy: 0.5800\n",
      "Epoch 25/40\n",
      "15/15 [==============================] - 0s 15ms/step - loss: 0.3814 - accuracy: 0.9067 - val_loss: 0.9141 - val_accuracy: 0.5800\n",
      "Epoch 26/40\n",
      "15/15 [==============================] - 0s 13ms/step - loss: 0.3460 - accuracy: 0.9267 - val_loss: 0.9738 - val_accuracy: 0.5400\n",
      "Epoch 27/40\n",
      "15/15 [==============================] - 0s 11ms/step - loss: 0.3595 - accuracy: 0.9133 - val_loss: 0.9132 - val_accuracy: 0.6200\n",
      "Epoch 28/40\n",
      "15/15 [==============================] - 0s 12ms/step - loss: 0.3670 - accuracy: 0.9089 - val_loss: 0.8785 - val_accuracy: 0.5800\n",
      "Epoch 29/40\n",
      "15/15 [==============================] - 0s 12ms/step - loss: 0.3705 - accuracy: 0.8867 - val_loss: 0.8462 - val_accuracy: 0.6400\n",
      "Epoch 30/40\n",
      "15/15 [==============================] - 0s 12ms/step - loss: 0.3234 - accuracy: 0.9400 - val_loss: 0.8902 - val_accuracy: 0.5800\n",
      "Epoch 31/40\n",
      "15/15 [==============================] - 0s 12ms/step - loss: 0.3277 - accuracy: 0.9267 - val_loss: 0.8622 - val_accuracy: 0.6000\n",
      "Epoch 32/40\n",
      "15/15 [==============================] - 0s 11ms/step - loss: 0.3251 - accuracy: 0.9200 - val_loss: 0.8865 - val_accuracy: 0.6000\n",
      "Epoch 33/40\n",
      "15/15 [==============================] - 0s 12ms/step - loss: 0.3323 - accuracy: 0.9267 - val_loss: 0.8958 - val_accuracy: 0.6400\n",
      "Epoch 34/40\n",
      "15/15 [==============================] - 0s 14ms/step - loss: 0.3221 - accuracy: 0.9356 - val_loss: 0.9898 - val_accuracy: 0.5600\n",
      "Epoch 35/40\n",
      "15/15 [==============================] - 0s 27ms/step - loss: 0.3354 - accuracy: 0.9089 - val_loss: 0.9552 - val_accuracy: 0.6200\n",
      "Epoch 36/40\n",
      "15/15 [==============================] - 0s 11ms/step - loss: 0.3013 - accuracy: 0.9533 - val_loss: 0.9784 - val_accuracy: 0.5400\n",
      "Epoch 37/40\n",
      "15/15 [==============================] - 0s 11ms/step - loss: 0.3196 - accuracy: 0.9333 - val_loss: 0.9817 - val_accuracy: 0.6000\n",
      "Epoch 38/40\n",
      "15/15 [==============================] - 0s 11ms/step - loss: 0.3101 - accuracy: 0.9356 - val_loss: 0.9787 - val_accuracy: 0.6200\n",
      "Epoch 39/40\n",
      "15/15 [==============================] - 0s 14ms/step - loss: 0.3068 - accuracy: 0.9400 - val_loss: 1.0021 - val_accuracy: 0.6000\n",
      "Epoch 40/40\n",
      "15/15 [==============================] - 0s 13ms/step - loss: 0.3016 - accuracy: 0.9467 - val_loss: 1.1153 - val_accuracy: 0.5600\n"
     ]
    }
   ],
   "source": [
    "%load_ext autoreload\n",
    "%autoreload 2\n",
    "\n",
    "history = model.fit(training_data, training_target, epochs=40, batch_size=30)\n",
    "# TODO: save trained model"
   ]
  },
  {
   "cell_type": "markdown",
   "metadata": {},
   "source": [
    "### Evaluate dev"
   ]
  },
  {
   "cell_type": "markdown",
   "metadata": {},
   "source": [
    "### Save model"
   ]
  },
  {
   "cell_type": "markdown",
   "metadata": {},
   "source": [
    "### Evaluate production (forbidden during tuning)"
   ]
  },
  {
   "cell_type": "code",
   "execution_count": null,
   "metadata": {},
   "outputs": [],
   "source": []
  },
  {
   "cell_type": "markdown",
   "metadata": {},
   "source": [
    "### Explain prediction"
   ]
  },
  {
   "cell_type": "code",
   "execution_count": 31,
   "metadata": {},
   "outputs": [],
   "source": [
    "import eli5\n",
    "from eli5.lime import TextExplainer"
   ]
  },
  {
   "cell_type": "code",
   "execution_count": 34,
   "metadata": {},
   "outputs": [
    {
     "data": {
      "text/html": [
       "\n",
       "    <style>\n",
       "    table.eli5-weights tr:hover {\n",
       "        filter: brightness(85%);\n",
       "    }\n",
       "</style>\n",
       "\n",
       "\n",
       "\n",
       "    \n",
       "\n",
       "    \n",
       "\n",
       "    \n",
       "\n",
       "    \n",
       "\n",
       "    \n",
       "\n",
       "    \n",
       "\n",
       "\n",
       "    \n",
       "\n",
       "    \n",
       "\n",
       "    \n",
       "\n",
       "    \n",
       "        \n",
       "\n",
       "    \n",
       "\n",
       "        \n",
       "\n",
       "        \n",
       "    \n",
       "        \n",
       "        \n",
       "    \n",
       "        <p style=\"margin-bottom: 0.5em; margin-top: 0em\">\n",
       "            <b>\n",
       "    \n",
       "        y=1\n",
       "    \n",
       "</b>\n",
       "\n",
       "    \n",
       "    (probability <b>0.990</b>, score <b>4.549</b>)\n",
       "\n",
       "top features\n",
       "        </p>\n",
       "    \n",
       "    <table class=\"eli5-weights\"\n",
       "           style=\"border-collapse: collapse; border: none; margin-top: 0em; table-layout: auto; margin-bottom: 2em;\">\n",
       "        <thead>\n",
       "        <tr style=\"border: none;\">\n",
       "            \n",
       "                <th style=\"padding: 0 1em 0 0.5em; text-align: right; border: none;\" title=\"Feature contribution already accounts for the feature value (for linear models, contribution = weight * feature value), and the sum of feature contributions is equal to the score or, for some classifiers, to the probability. Feature values are shown if &quot;show_feature_values&quot; is True.\">\n",
       "                    Contribution<sup>?</sup>\n",
       "                </th>\n",
       "            \n",
       "            <th style=\"padding: 0 0.5em 0 0.5em; text-align: left; border: none;\">Feature</th>\n",
       "            \n",
       "        </tr>\n",
       "        </thead>\n",
       "        <tbody>\n",
       "        \n",
       "            <tr style=\"background-color: hsl(120, 100.00%, 80.00%); border: none;\">\n",
       "    <td style=\"padding: 0 1em 0 0.5em; text-align: right; border: none;\">\n",
       "        +4.048\n",
       "    </td>\n",
       "    <td style=\"padding: 0 0.5em 0 0.5em; text-align: left; border: none;\">\n",
       "        Highlighted in text (sum)\n",
       "    </td>\n",
       "    \n",
       "</tr>\n",
       "        \n",
       "            <tr style=\"background-color: hsl(120, 100.00%, 95.37%); border: none;\">\n",
       "    <td style=\"padding: 0 1em 0 0.5em; text-align: right; border: none;\">\n",
       "        +0.501\n",
       "    </td>\n",
       "    <td style=\"padding: 0 0.5em 0 0.5em; text-align: left; border: none;\">\n",
       "        &lt;BIAS&gt;\n",
       "    </td>\n",
       "    \n",
       "</tr>\n",
       "        \n",
       "        \n",
       "\n",
       "        \n",
       "        \n",
       "\n",
       "        </tbody>\n",
       "    </table>\n",
       "\n",
       "    \n",
       "\n",
       "\n",
       "\n",
       "    <p style=\"margin-bottom: 2.5em; margin-top:-0.5em;\">\n",
       "        <span style=\"background-color: hsl(0, 100.00%, 95.94%); opacity: 0.81\" title=\"-0.069\">i</span><span style=\"opacity: 0.80\"> </span><span style=\"background-color: hsl(120, 100.00%, 85.84%); opacity: 0.85\" title=\"0.414\">love</span><span style=\"opacity: 0.80\"> </span><span style=\"background-color: hsl(120, 100.00%, 86.61%); opacity: 0.84\" title=\"0.382\">candy</span><span style=\"opacity: 0.80\">. </span><span style=\"background-color: hsl(0, 100.00%, 94.90%); opacity: 0.81\" title=\"-0.096\">i</span><span style=\"opacity: 0.80\"> </span><span style=\"background-color: hsl(120, 100.00%, 84.43%); opacity: 0.85\" title=\"0.474\">like</span><span style=\"opacity: 0.80\"> </span><span style=\"background-color: hsl(120, 100.00%, 88.38%); opacity: 0.83\" title=\"0.312\">to</span><span style=\"opacity: 0.80\"> </span><span style=\"background-color: hsl(0, 100.00%, 92.49%); opacity: 0.82\" title=\"-0.167\">be</span><span style=\"opacity: 0.80\"> </span><span style=\"background-color: hsl(120, 100.00%, 84.94%); opacity: 0.85\" title=\"0.452\">positive</span><span style=\"opacity: 0.80\">, </span><span style=\"background-color: hsl(0, 100.00%, 90.61%); opacity: 0.83\" title=\"-0.230\">be</span><span style=\"opacity: 0.80\"> </span><span style=\"background-color: hsl(120, 100.00%, 89.47%); opacity: 0.83\" title=\"0.271\">happy</span><span style=\"opacity: 0.80\">! </span><span style=\"background-color: hsl(120, 100.00%, 85.51%); opacity: 0.85\" title=\"0.428\">what</span><span style=\"opacity: 0.80\"> </span><span style=\"background-color: hsl(120, 100.00%, 84.26%); opacity: 0.85\" title=\"0.481\">a</span><span style=\"opacity: 0.80\"> </span><span style=\"background-color: hsl(120, 100.00%, 60.00%); opacity: 1.00\" title=\"1.824\">lovely</span><span style=\"opacity: 0.80\"> </span><span style=\"background-color: hsl(120, 100.00%, 61.42%); opacity: 0.99\" title=\"1.732\">day</span>\n",
       "    </p>\n",
       "\n",
       "\n",
       "    \n",
       "\n",
       "    \n",
       "\n",
       "    \n",
       "\n",
       "    \n",
       "\n",
       "\n",
       "    \n",
       "\n",
       "    \n",
       "\n",
       "    \n",
       "\n",
       "    \n",
       "\n",
       "    \n",
       "\n",
       "    \n",
       "\n",
       "\n",
       "    \n",
       "\n",
       "    \n",
       "\n",
       "    \n",
       "\n",
       "    \n",
       "\n",
       "    \n",
       "\n",
       "    \n",
       "\n",
       "\n",
       "\n"
      ],
      "text/plain": [
       "<IPython.core.display.HTML object>"
      ]
     },
     "execution_count": 34,
     "metadata": {},
     "output_type": "execute_result"
    }
   ],
   "source": [
    "\n",
    "\n",
    "\n",
    "te = TextExplainer(random_state=42)\n",
    "te.fit(\"I love candy. I like to be positive, be happy! What a lovely day\", model.predict_proba)\n",
    "te.show_prediction()"
   ]
  },
  {
   "cell_type": "code",
   "execution_count": null,
   "metadata": {},
   "outputs": [],
   "source": []
  }
 ],
 "metadata": {
  "kernelspec": {
   "display_name": "venv",
   "language": "python",
   "name": "venv"
  },
  "language_info": {
   "codemirror_mode": {
    "name": "ipython",
    "version": 3
   },
   "file_extension": ".py",
   "mimetype": "text/x-python",
   "name": "python",
   "nbconvert_exporter": "python",
   "pygments_lexer": "ipython3",
   "version": "3.8.1"
  }
 },
 "nbformat": 4,
 "nbformat_minor": 2
}
