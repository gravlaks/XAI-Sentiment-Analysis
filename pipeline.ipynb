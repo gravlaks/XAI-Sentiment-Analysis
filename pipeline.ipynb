{
 "cells": [
  {
   "cell_type": "code",
   "execution_count": 4,
   "metadata": {},
   "outputs": [],
   "source": [
    "import numpy as np\n",
    "import pandas as pd\n",
    "import tensorflow as tf"
   ]
  },
  {
   "cell_type": "markdown",
   "metadata": {},
   "source": [
    "### Preprocess data\n",
    "(only needs to be done once)"
   ]
  },
  {
   "cell_type": "code",
   "execution_count": 5,
   "metadata": {},
   "outputs": [
    {
     "name": "stdout",
     "output_type": "stream",
     "text": [
      "Loading ./data/training.1600000.processed.noemoticon.csv\n"
     ]
    },
    {
     "name": "stderr",
     "output_type": "stream",
     "text": [
      "\r",
      "  0%|          | 0/1000 [00:00<?, ?it/s]"
     ]
    },
    {
     "name": "stdout",
     "output_type": "stream",
     "text": [
      "Stripping down\n",
      "Preprocessing\n"
     ]
    },
    {
     "name": "stderr",
     "output_type": "stream",
     "text": [
      "100%|██████████| 1000/1000 [00:06<00:00, 151.32it/s]\n"
     ]
    },
    {
     "name": "stdout",
     "output_type": "stream",
     "text": [
      "Done. Writing to ./data/preprocessed.csv\n",
      "Success!\n"
     ]
    }
   ],
   "source": [
    "from pre import preprocess\n",
    "# stores preprocessed data file\n",
    "preprocessed_filename = './data/preprocessed.csv'\n",
    "preprocess(i='./data/training.1600000.processed.noemoticon.csv', o=preprocessed_filename, slice=1000)"
   ]
  },
  {
   "cell_type": "markdown",
   "metadata": {},
   "source": [
    "### Load preprocessed data"
   ]
  },
  {
   "cell_type": "code",
   "execution_count": 6,
   "metadata": {},
   "outputs": [],
   "source": [
    "from parse import load_data\n",
    "\n",
    "data = load_data(preprocessed_filename)\n",
    "# TODO: train/dev/test split"
   ]
  },
  {
   "cell_type": "markdown",
   "metadata": {},
   "source": [
    "### Embedding"
   ]
  },
  {
   "cell_type": "code",
   "execution_count": 7,
   "metadata": {},
   "outputs": [
    {
     "name": "stdout",
     "output_type": "stream",
     "text": [
      "got tweets\n",
      "Glove data loaded\n",
      "Words not found 521\n"
     ]
    }
   ],
   "source": [
    "from keras.preprocessing.text import Tokenizer\n",
    "from emb import get_keras_embeddings_layer\n",
    "\n",
    "MAX_WORDS = 5000\n",
    "glove_filename = './data/glove.6B.50d.txt'\n",
    "tokenizer = Tokenizer(lower=True, split=' ', oov_token=\"UNK\")\n",
    "emb_layer = get_keras_embeddings_layer(glove_filename, preprocessed_filename, tokenizer)"
   ]
  },
  {
   "cell_type": "markdown",
   "metadata": {},
   "source": [
    "### Model"
   ]
  },
  {
   "cell_type": "code",
   "execution_count": 28,
   "metadata": {},
   "outputs": [
    {
     "name": "stdout",
     "output_type": "stream",
     "text": [
      "The autoreload extension is already loaded. To reload it, use:\n",
      "  %reload_ext autoreload\n",
      "building model\n",
      "init\n",
      "Model: \"sequential_3\"\n",
      "_________________________________________________________________\n",
      "Layer (type)                 Output Shape              Param #   \n",
      "=================================================================\n",
      "embedding (Embedding)        multiple                  141600    \n",
      "_________________________________________________________________\n",
      "flatten_6 (Flatten)          (None, 5000)              0         \n",
      "_________________________________________________________________\n",
      "dropout_3 (Dropout)          (None, 5000)              0         \n",
      "_________________________________________________________________\n",
      "dense_12 (Dense)             (None, 64)                320064    \n",
      "_________________________________________________________________\n",
      "dense_13 (Dense)             (None, 100)               6500      \n",
      "_________________________________________________________________\n",
      "dense_14 (Dense)             (None, 2)                 202       \n",
      "=================================================================\n",
      "Total params: 468,366\n",
      "Trainable params: 326,766\n",
      "Non-trainable params: 141,600\n",
      "_________________________________________________________________\n",
      "None\n"
     ]
    }
   ],
   "source": [
    "%load_ext autoreload\n",
    "%autoreload 2\n",
    "from TextClassifierModel import build_model_keras, KerasTextClassifier\n",
    "import pickle\n",
    "\n",
    "\n",
    "# TODO: check correct arg-assignment for tokenizer\n",
    "model = build_model_keras(tokenizer, emb_layer)"
   ]
  },
  {
   "cell_type": "markdown",
   "metadata": {},
   "source": [
    "### Save untrained model | load it"
   ]
  },
  {
   "cell_type": "markdown",
   "metadata": {},
   "source": [
    "### Train"
   ]
  },
  {
   "cell_type": "code",
   "execution_count": 29,
   "metadata": {},
   "outputs": [
    {
     "name": "stdout",
     "output_type": "stream",
     "text": [
      "507 493\n"
     ]
    }
   ],
   "source": [
    "%autoreload 2\n",
    "def mapping(n):\n",
    "            if n == 0:\n",
    "                return 0\n",
    "            if n == 4:\n",
    "                return 1\n",
    "\n",
    "\n",
    "data_0 = data[data['target']==0]\n",
    "data_4 = data[data['target']==4]\n",
    "\n",
    "count_0, count_4 = data.target.value_counts()\n",
    "print(count_0, count_4)\n",
    "\n",
    "\n",
    "\n",
    "split = len(data['tweet'])//2\n",
    "\n",
    "training_data = np.array(data['tweet'][:split])\n",
    "training_target = np.array(data['target'][:split])\n",
    "test_data = np.array(data['tweet'][split:])\n",
    "test_target = np.array(data['target'][split:])\n",
    "\n",
    "for i in range(len(training_target)):\n",
    "    training_target[i] = mapping(training_target[i])\n",
    "for i in range(len(test_target)):\n",
    "    test_target[i] = mapping(test_target[i])\n",
    "training_target = tf.keras.utils.to_categorical(training_target, 2)\n",
    "test_target = tf.keras.utils.to_categorical(test_target, 2)\n",
    "\n",
    "#print(training_target, test_target)\n",
    "#doc = np.array(data['tweet'][:1])\n",
    "\n"
   ]
  },
  {
   "cell_type": "code",
   "execution_count": 30,
   "metadata": {},
   "outputs": [
    {
     "name": "stdout",
     "output_type": "stream",
     "text": [
      "The autoreload extension is already loaded. To reload it, use:\n",
      "  %reload_ext autoreload\n",
      "Epoch 1/4\n",
      "15/15 [==============================] - 1s 30ms/step - loss: 1.7334 - accuracy: 0.4797 - val_loss: 1.0560 - val_accuracy: 0.4800\n",
      "Epoch 2/4\n",
      "15/15 [==============================] - 0s 12ms/step - loss: 0.9093 - accuracy: 0.6152 - val_loss: 0.8008 - val_accuracy: 0.5000\n",
      "Epoch 3/4\n",
      "15/15 [==============================] - 0s 13ms/step - loss: 0.7177 - accuracy: 0.7080 - val_loss: 0.7703 - val_accuracy: 0.5000\n",
      "Epoch 4/4\n",
      "15/15 [==============================] - 0s 12ms/step - loss: 0.6826 - accuracy: 0.6418 - val_loss: 0.7555 - val_accuracy: 0.5200\n"
     ]
    }
   ],
   "source": [
    "%load_ext autoreload\n",
    "%autoreload 2\n",
    "\n",
    "history = model.fit(training_data, training_target, epochs=4, batch_size=30)\n",
    "# TODO: save trained model"
   ]
  },
  {
   "cell_type": "markdown",
   "metadata": {},
   "source": [
    "### Evaluate dev"
   ]
  },
  {
   "cell_type": "markdown",
   "metadata": {},
   "source": [
    "### Save model"
   ]
  },
  {
   "cell_type": "markdown",
   "metadata": {},
   "source": [
    "### Evaluate production (forbidden during tuning)"
   ]
  },
  {
   "cell_type": "code",
   "execution_count": null,
   "metadata": {},
   "outputs": [],
   "source": []
  },
  {
   "cell_type": "markdown",
   "metadata": {},
   "source": [
    "### Explain prediction"
   ]
  },
  {
   "cell_type": "code",
   "execution_count": 17,
   "metadata": {},
   "outputs": [],
   "source": [
    "import eli5\n",
    "from eli5.lime import TextExplainer"
   ]
  },
  {
   "cell_type": "code",
   "execution_count": 19,
   "metadata": {},
   "outputs": [
    {
     "data": {
      "text/html": [
       "\n",
       "    <style>\n",
       "    table.eli5-weights tr:hover {\n",
       "        filter: brightness(85%);\n",
       "    }\n",
       "</style>\n",
       "\n",
       "\n",
       "\n",
       "    \n",
       "\n",
       "    \n",
       "\n",
       "    \n",
       "\n",
       "    \n",
       "\n",
       "    \n",
       "\n",
       "    \n",
       "\n",
       "\n",
       "    \n",
       "\n",
       "    \n",
       "\n",
       "    \n",
       "\n",
       "    \n",
       "        \n",
       "\n",
       "    \n",
       "\n",
       "        \n",
       "\n",
       "        \n",
       "    \n",
       "        \n",
       "        \n",
       "    \n",
       "        <p style=\"margin-bottom: 0.5em; margin-top: 0em\">\n",
       "            <b>\n",
       "    \n",
       "        y=0\n",
       "    \n",
       "</b>\n",
       "\n",
       "    \n",
       "    (probability <b>0.754</b>, score <b>-1.122</b>)\n",
       "\n",
       "top features\n",
       "        </p>\n",
       "    \n",
       "    <table class=\"eli5-weights\"\n",
       "           style=\"border-collapse: collapse; border: none; margin-top: 0em; table-layout: auto; margin-bottom: 2em;\">\n",
       "        <thead>\n",
       "        <tr style=\"border: none;\">\n",
       "            \n",
       "                <th style=\"padding: 0 1em 0 0.5em; text-align: right; border: none;\" title=\"Feature contribution already accounts for the feature value (for linear models, contribution = weight * feature value), and the sum of feature contributions is equal to the score or, for some classifiers, to the probability. Feature values are shown if &quot;show_feature_values&quot; is True.\">\n",
       "                    Contribution<sup>?</sup>\n",
       "                </th>\n",
       "            \n",
       "            <th style=\"padding: 0 0.5em 0 0.5em; text-align: left; border: none;\">Feature</th>\n",
       "            \n",
       "        </tr>\n",
       "        </thead>\n",
       "        <tbody>\n",
       "        \n",
       "            <tr style=\"background-color: hsl(120, 100.00%, 80.00%); border: none;\">\n",
       "    <td style=\"padding: 0 1em 0 0.5em; text-align: right; border: none;\">\n",
       "        +0.715\n",
       "    </td>\n",
       "    <td style=\"padding: 0 0.5em 0 0.5em; text-align: left; border: none;\">\n",
       "        &lt;BIAS&gt;\n",
       "    </td>\n",
       "    \n",
       "</tr>\n",
       "        \n",
       "            <tr style=\"background-color: hsl(120, 100.00%, 86.50%); border: none;\">\n",
       "    <td style=\"padding: 0 1em 0 0.5em; text-align: right; border: none;\">\n",
       "        +0.408\n",
       "    </td>\n",
       "    <td style=\"padding: 0 0.5em 0 0.5em; text-align: left; border: none;\">\n",
       "        Highlighted in text (sum)\n",
       "    </td>\n",
       "    \n",
       "</tr>\n",
       "        \n",
       "        \n",
       "\n",
       "        \n",
       "        \n",
       "\n",
       "        </tbody>\n",
       "    </table>\n",
       "\n",
       "    \n",
       "\n",
       "\n",
       "\n",
       "    <p style=\"margin-bottom: 2.5em; margin-top:-0.5em;\">\n",
       "        <span style=\"background-color: hsl(0, 100.00%, 73.03%); opacity: 0.91\" title=\"-0.111\">i</span><span style=\"opacity: 0.80\"> </span><span style=\"background-color: hsl(0, 100.00%, 67.61%); opacity: 0.95\" title=\"-0.145\">love</span><span style=\"opacity: 0.80\"> </span><span style=\"background-color: hsl(0, 100.00%, 84.31%); opacity: 0.85\" title=\"-0.051\">candy</span><span style=\"opacity: 0.80\">. </span><span style=\"background-color: hsl(0, 100.00%, 60.00%); opacity: 1.00\" title=\"-0.195\">i</span><span style=\"opacity: 0.80\"> </span><span style=\"background-color: hsl(0, 100.00%, 65.23%); opacity: 0.96\" title=\"-0.160\">like</span><span style=\"opacity: 0.80\"> </span><span style=\"background-color: hsl(0, 100.00%, 83.07%); opacity: 0.86\" title=\"-0.057\">to</span><span style=\"opacity: 0.80\"> </span><span style=\"background-color: hsl(0, 100.00%, 77.01%); opacity: 0.89\" title=\"-0.089\">be</span><span style=\"opacity: 0.80\"> </span><span style=\"background-color: hsl(0, 100.00%, 63.44%); opacity: 0.98\" title=\"-0.172\">positive</span><span style=\"opacity: 0.80\">, </span><span style=\"background-color: hsl(0, 100.00%, 76.69%); opacity: 0.89\" title=\"-0.090\">be</span><span style=\"opacity: 0.80\"> </span><span style=\"background-color: hsl(0, 100.00%, 82.44%); opacity: 0.86\" title=\"-0.060\">happy</span><span style=\"opacity: 0.80\">! </span><span style=\"background-color: hsl(120, 100.00%, 90.20%); opacity: 0.83\" title=\"0.026\">what</span><span style=\"opacity: 0.80\"> </span><span style=\"background-color: hsl(0, 100.00%, 68.10%); opacity: 0.94\" title=\"-0.141\">a</span><span style=\"opacity: 0.80\"> </span><span style=\"background-color: hsl(0, 100.00%, 73.10%); opacity: 0.91\" title=\"-0.111\">lovely</span><span style=\"opacity: 0.80\"> </span><span style=\"background-color: hsl(0, 100.00%, 69.18%); opacity: 0.94\" title=\"-0.135\">day</span>\n",
       "    </p>\n",
       "\n",
       "\n",
       "    \n",
       "\n",
       "    \n",
       "\n",
       "    \n",
       "\n",
       "    \n",
       "\n",
       "\n",
       "    \n",
       "\n",
       "    \n",
       "\n",
       "    \n",
       "\n",
       "    \n",
       "\n",
       "    \n",
       "\n",
       "    \n",
       "\n",
       "\n",
       "    \n",
       "\n",
       "    \n",
       "\n",
       "    \n",
       "\n",
       "    \n",
       "\n",
       "    \n",
       "\n",
       "    \n",
       "\n",
       "\n",
       "\n"
      ],
      "text/plain": [
       "<IPython.core.display.HTML object>"
      ]
     },
     "execution_count": 19,
     "metadata": {},
     "output_type": "execute_result"
    }
   ],
   "source": [
    "\n",
    "\n",
    "\n",
    "te = TextExplainer(random_state=42)\n",
    "te.fit(\"I love candy. I like to be positive, be happy! What a lovely day\", model.predict_proba)\n",
    "te.show_prediction()"
   ]
  },
  {
   "cell_type": "code",
   "execution_count": null,
   "metadata": {},
   "outputs": [],
   "source": []
  }
 ],
 "metadata": {
  "kernelspec": {
   "display_name": "venv",
   "language": "python",
   "name": "venv"
  },
  "language_info": {
   "codemirror_mode": {
    "name": "ipython",
    "version": 3
   },
   "file_extension": ".py",
   "mimetype": "text/x-python",
   "name": "python",
   "nbconvert_exporter": "python",
   "pygments_lexer": "ipython3",
   "version": "3.8.1"
  }
 },
 "nbformat": 4,
 "nbformat_minor": 2
}
