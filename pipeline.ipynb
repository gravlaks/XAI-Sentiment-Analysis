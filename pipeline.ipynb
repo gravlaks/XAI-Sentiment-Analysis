{
 "cells": [
  {
   "cell_type": "code",
   "execution_count": null,
   "metadata": {},
   "outputs": [],
   "source": [
    "import numpy as np\n",
    "import pandas as pd\n",
    "import tensorflow as tf"
   ]
  },
  {
   "cell_type": "markdown",
   "metadata": {},
   "source": [
    "### Preprocess data\n",
    "(only needs to be done once)"
   ]
  },
  {
   "cell_type": "code",
   "execution_count": null,
   "metadata": {},
   "outputs": [],
   "source": [
    "from pre import preprocess\n",
    "# stores preprocessed data file\n",
    "preprocessed_filename = './data/preprocessed.csv'\n",
    "preprocess(i='./data/training.1600000.processed.noemoticon.csv', o=preprocessed_filename, slice=1000)"
   ]
  },
  {
   "cell_type": "markdown",
   "metadata": {},
   "source": [
    "### Load preprocessed data"
   ]
  },
  {
   "cell_type": "code",
   "execution_count": null,
   "metadata": {},
   "outputs": [],
   "source": [
    "from parse import load_data\n",
    "\n",
    "data = load_data(preprocessed_filename)\n",
    "# TODO: train/dev/test split"
   ]
  },
  {
   "source": [
    "### Embedding"
   ],
   "cell_type": "code",
   "metadata": {},
   "execution_count": null,
   "outputs": []
  },
  {
   "cell_type": "code",
   "execution_count": null,
   "metadata": {},
   "outputs": [],
   "source": [
    "from keras.preprocessing.text import Tokenizer\n",
    "from emb import get_keras_embeddings_layer\n",
    "\n",
    "MAX_WORDS = 5000\n",
    "glove_filename = './data/glove.6B.50d.txt'\n",
    "tokenizer = Tokenizer(lower=True, split=' ', oov_token=\"UNK\")\n",
    "emb_layer = get_keras_embeddings_layer(glove_filename, preprocessed_filename, tokenizer)"
   ]
  },
  {
   "cell_type": "markdown",
   "metadata": {},
   "source": [
    "### Model"
   ]
  },
  {
   "cell_type": "code",
   "execution_count": null,
   "metadata": {},
   "outputs": [],
   "source": [
    "%load_ext autoreload\n",
    "%autoreload 2\n",
    "from TextClassifierModel import build_model_keras, KerasTextClassifier\n",
    "import pickle\n",
    "\n",
    "\n",
    "# TODO: check correct arg-assignment for tokenizer\n",
    "model = build_model_keras(tokenizer, emb_layer)"
   ]
  },
  {
   "cell_type": "markdown",
   "metadata": {},
   "source": [
    "### Save untrained model | load it"
   ]
  },
  {
   "cell_type": "markdown",
   "metadata": {},
   "source": [
    "### Train"
   ]
  },
  {
   "cell_type": "code",
   "execution_count": null,
   "metadata": {},
   "outputs": [],
   "source": [
    "%autoreload 2\n",
    "def mapping(n):\n",
    "            if n == 0:\n",
    "                return 0\n",
    "            if n == 4:\n",
    "                return 1\n",
    "\n",
    "\n",
    "data_0 = data[data['target']==0]\n",
    "data_4 = data[data['target']==4]\n",
    "\n",
    "count_0, count_4 = data.target.value_counts()\n",
    "print(count_0, count_4)\n",
    "\n",
    "\n",
    "\n",
    "split = len(data['tweet'])//2\n",
    "\n",
    "training_data = np.array(data['tweet'][:split])\n",
    "training_target = np.array(data['target'][:split])\n",
    "test_data = np.array(data['tweet'][split:])\n",
    "test_target = np.array(data['target'][split:])\n",
    "\n",
    "for i in range(len(training_target)):\n",
    "    training_target[i] = mapping(training_target[i])\n",
    "for i in range(len(test_target)):\n",
    "    test_target[i] = mapping(test_target[i])\n",
    "training_target = tf.keras.utils.to_categorical(training_target, 2)\n",
    "test_target = tf.keras.utils.to_categorical(test_target, 2)\n",
    "\n",
    "#print(training_target, test_target)\n",
    "#doc = np.array(data['tweet'][:1])\n",
    "\n"
   ]
  },
  {
   "cell_type": "code",
   "execution_count": null,
   "metadata": {},
   "outputs": [],
   "source": [
    "%load_ext autoreload\n",
    "%autoreload 2\n",
    "\n",
    "history = model.fit(training_data, training_target, epochs=40, batch_size=30)\n",
    "# TODO: save trained model"
   ]
  },
  {
   "cell_type": "markdown",
   "metadata": {},
   "source": [
    "### Evaluate dev"
   ]
  },
  {
   "cell_type": "markdown",
   "metadata": {},
   "source": [
    "### Save model"
   ]
  },
  {
   "cell_type": "code",
   "execution_count": null,
   "metadata": {},
   "outputs": [],
   "source": [
    "from TextClassifierModel import save_model_keras, load_model_keras\n",
    "\n",
    "print('Saving')\n",
    "save_model_keras(model, '/tmp/model')\n",
    "print('Loading')\n",
    "model = load_model_keras('/tmp/model')\n",
    "print(model.model.summary())"
   ]
  },
  {
   "cell_type": "markdown",
   "metadata": {},
   "source": [
    "### Evaluate production (forbidden during tuning)"
   ]
  },
  {
   "cell_type": "code",
   "execution_count": null,
   "metadata": {},
   "outputs": [],
   "source": []
  },
  {
   "cell_type": "markdown",
   "metadata": {},
   "source": [
    "### Explain prediction"
   ]
  },
  {
   "cell_type": "code",
   "execution_count": null,
   "metadata": {},
   "outputs": [],
   "source": [
    "import eli5\n",
    "from eli5.lime import TextExplainer"
   ]
  },
  {
   "cell_type": "code",
   "execution_count": null,
   "metadata": {},
   "outputs": [],
   "source": [
    "\n",
    "\n",
    "\n",
    "te = TextExplainer(random_state=42)\n",
    "te.fit(\"I love candy. I like to be positive, be happy! What a lovely day\", model.predict_proba)\n",
    "te.show_prediction()"
   ]
  },
  {
   "cell_type": "code",
   "execution_count": null,
   "metadata": {},
   "outputs": [],
   "source": []
  }
 ],
 "metadata": {
  "kernelspec": {
   "name": "python3",
   "display_name": "Python 3.8.5 64-bit ('venv')",
   "metadata": {
    "interpreter": {
     "hash": "c43354135001bf62fe69d69733622940f672253d054ca15c59e0d27f8a821f1e"
    }
   }
  },
  "language_info": {
   "codemirror_mode": {
    "name": "ipython",
    "version": 3
   },
   "file_extension": ".py",
   "mimetype": "text/x-python",
   "name": "python",
   "nbconvert_exporter": "python",
   "pygments_lexer": "ipython3",
   "version": "3.8.5-final"
  }
 },
 "nbformat": 4,
 "nbformat_minor": 2
}