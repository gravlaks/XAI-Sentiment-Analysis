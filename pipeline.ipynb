{
 "metadata": {
  "language_info": {
   "codemirror_mode": {
    "name": "ipython",
    "version": 3
   },
   "file_extension": ".py",
   "mimetype": "text/x-python",
   "name": "python",
   "nbconvert_exporter": "python",
   "pygments_lexer": "ipython3",
   "version": 3
  },
  "orig_nbformat": 2
 },
 "nbformat": 4,
 "nbformat_minor": 2,
 "cells": [
  {
   "source": [
    "### Preprocess data\n",
    "(only needs to be done once)"
   ],
   "cell_type": "markdown",
   "metadata": {}
  },
  {
   "cell_type": "code",
   "execution_count": null,
   "metadata": {},
   "outputs": [],
   "source": [
    "from pre import preprocess\n",
    "# stores preprocessed data file\n",
    "preprocess(i='./data/training.1600000.processed.noemoticon.csv', o='./data/preprocessed.csv', slice=None)"
   ]
  },
  {
   "source": [
    "### Load preprocessed data"
   ],
   "cell_type": "markdown",
   "metadata": {}
  },
  {
   "cell_type": "code",
   "execution_count": null,
   "metadata": {},
   "outputs": [],
   "source": [
    "from parse import load_data\n",
    "\n",
    "df = load_data('./data/preprocessed.csv')\n",
    "# TODO: train/dev/test split"
   ]
  },
  {
   "source": [
    "### Embedding"
   ],
   "cell_type": "markdown",
   "metadata": {}
  },
  {
   "cell_type": "code",
   "execution_count": null,
   "metadata": {},
   "outputs": [],
   "source": [
    "from keras.preprocessing.text import Tokenizer\n",
    "from emb import get_keras_embedding_layer\n",
    "\n",
    "MAX_WORDS = 5000\n",
    "tknzr = Tokenizer(num_words=MAX_WORDS, lower=True, split=' ', oov_token=\"UNK\")\n",
    "emb_layer = get_keras_embedding_layer(tknzr)"
   ]
  },
  {
   "source": [
    "### Model"
   ],
   "cell_type": "markdown",
   "metadata": {}
  },
  {
   "cell_type": "code",
   "execution_count": null,
   "metadata": {},
   "outputs": [],
   "source": [
    "from model import build_model_keras\n",
    "import pickle\n",
    "\n",
    "\n",
    "# TODO: check correct arg-assignment for tknzr\n",
    "model = build_model_keras(tknzr)"
   ]
  },
  {
   "source": [
    "### Save untrained model | load it"
   ],
   "cell_type": "markdown",
   "metadata": {}
  },
  {
   "source": [
    "### Train"
   ],
   "cell_type": "markdown",
   "metadata": {}
  },
  {
   "cell_type": "code",
   "execution_count": null,
   "metadata": {},
   "outputs": [],
   "source": [
    "history = model.fit(X_train, Y_train, validation_data=(X_dev, Y_dev), batch_size=128, epochs=75, verbose=1)\n",
    "# TODO: save trained model"
   ]
  },
  {
   "source": [
    "### Evaluate dev"
   ],
   "cell_type": "markdown",
   "metadata": {}
  },
  {
   "source": [
    "### Save model"
   ],
   "cell_type": "markdown",
   "metadata": {}
  },
  {
   "source": [
    "### Evaluate production (forbidden during tuning)"
   ],
   "cell_type": "markdown",
   "metadata": {}
  },
  {
   "source": [
    "### Explain prediction"
   ],
   "cell_type": "markdown",
   "metadata": {}
  }
 ]
}